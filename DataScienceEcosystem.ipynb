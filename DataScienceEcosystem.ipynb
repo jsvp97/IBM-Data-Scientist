{
 "cells": [
  {
   "cell_type": "markdown",
   "id": "6e4ae1e3-7bbd-4cd8-9d24-8d0f39caca79",
   "metadata": {},
   "source": [
    "## Data Science Tools and Ecosystem"
   ]
  },
  {
   "cell_type": "markdown",
   "id": "187d326f-3445-4ffa-9e72-8fd38fce0d42",
   "metadata": {},
   "source": [
    "#### In this notebook, Data Science Tools and Ecosystem are summarized."
   ]
  },
  {
   "cell_type": "markdown",
   "id": "219d5fae-26cb-4dcb-a57c-ad2f593708d6",
   "metadata": {},
   "source": [
    "#### Objectives\n",
    "+ List popular languajes for data science\n",
    "+ List popular libraries for data science\n",
    "+ List popular tools for data science\n",
    "+ Show examples of arithmetic operations in python"
   ]
  },
  {
   "cell_type": "markdown",
   "id": "9a98d385-7526-4be9-8b9a-8f8242786140",
   "metadata": {},
   "source": [
    "## Author\n",
    "Sebastian Velasquez"
   ]
  },
  {
   "cell_type": "markdown",
   "id": "ca307daa-43e5-4925-ae00-1a6a496d6b98",
   "metadata": {},
   "source": [
    "###### Some of the popular languages that Data Scientists use are:\n",
    "1. Python\n",
    "2. R\n",
    "3. Julia"
   ]
  },
  {
   "cell_type": "markdown",
   "id": "3ad02282-3c29-467c-bc49-1d58083856c9",
   "metadata": {},
   "source": [
    "###### Some of the commonly used libraries used by Data Scientists include:\n",
    "1. pandas\n",
    "2. numpy\n",
    "3. ggplot"
   ]
  },
  {
   "cell_type": "markdown",
   "id": "6f23d540-d319-458d-88fa-5964cd29974d",
   "metadata": {},
   "source": [
    "###### Data science tools\n",
    "\n",
    "| Data science tools |\n",
    "|--------------------|\n",
    "| Jupiter nootboks |\n",
    "| Hadoop |\n",
    "| TensorFlow |\n"
   ]
  },
  {
   "cell_type": "markdown",
   "id": "8f97c2ba-4967-4b92-abdd-ba94b99d68c9",
   "metadata": {},
   "source": [
    "### Below are a few examples of evaluating arithmetic expressions in Python"
   ]
  },
  {
   "cell_type": "code",
   "execution_count": 11,
   "id": "1fd6e1ac-ed75-4b23-88ad-5a0eee2d05ae",
   "metadata": {},
   "outputs": [
    {
     "data": {
      "text/plain": [
       "17"
      ]
     },
     "execution_count": 11,
     "metadata": {},
     "output_type": "execute_result"
    }
   ],
   "source": [
    "(3*4)+5\n",
    "# This is a simple arithmetic expression to multiply then add integers"
   ]
  },
  {
   "cell_type": "code",
   "execution_count": 13,
   "id": "e6e976ae-692e-4be0-a96a-7355b3675c89",
   "metadata": {},
   "outputs": [
    {
     "data": {
      "text/plain": [
       "3.3333333333333335"
      ]
     },
     "execution_count": 13,
     "metadata": {},
     "output_type": "execute_result"
    }
   ],
   "source": [
    "#This will convert 200 minutes to hours by diving by 60\n",
    "200/60"
   ]
  }
 ],
 "metadata": {
  "kernelspec": {
   "display_name": "Python [conda env:base] *",
   "language": "python",
   "name": "conda-base-py"
  },
  "language_info": {
   "codemirror_mode": {
    "name": "ipython",
    "version": 3
   },
   "file_extension": ".py",
   "mimetype": "text/x-python",
   "name": "python",
   "nbconvert_exporter": "python",
   "pygments_lexer": "ipython3",
   "version": "3.12.7"
  }
 },
 "nbformat": 4,
 "nbformat_minor": 5
}
